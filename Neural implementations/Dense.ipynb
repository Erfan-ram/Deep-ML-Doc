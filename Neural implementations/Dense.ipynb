{
  "cells": [
    {
      "cell_type": "markdown",
      "metadata": {
        "id": "Ah_rbBG3XxQP"
      },
      "source": [
        "a neural network contains lot of nerons that we call each nerons as a unit . a single unit neural netwowrk is defined this way :\n",
        "\n",
        "![mfOlDR6.png](attachment:mfOlDR6.png)"
      ]
    },
    {
      "cell_type": "markdown",
      "metadata": {
        "id": "xgkzxeDZn5To"
      },
      "source": [
        "The `input` is **x**. Its connection to the neuron has a weight which is w. Whenever a value flows through a connection, you multiply the value by the connection's weight. For the input x, what reaches the neuron is w * x. A neural network \"learns\" by modifying its weights.\n",
        "\n",
        "The b is a special kind of weight we call the bias. The bias doesn't have any input data associated with it; instead, we put a 1 in the diagram so that the value that reaches the neuron is just b (since 1 * b = b). The bias enables the neuron to modify the output independently of its inputs.\n",
        "\n",
        "The y is the value the neuron ultimately outputs. To get the output, the neuron sums up all the values it receives through its connections. This neuron's activation is `y = w * x + b, or as a formula  y=wx+b`\n",
        " .\n",
        "\n",
        "\n",
        " ![yjsfFvY.png](attachment:yjsfFvY.png)"
      ]
    },
    {
      "cell_type": "code",
      "execution_count": 29,
      "metadata": {
        "id": "jz1Dk_NYn5To"
      },
      "outputs": [],
      "source": [
        "from tensorflow import keras\n",
        "from tensorflow.keras import layers\n",
        "\n",
        "# Create a network with 1 linear unit\n",
        "model = keras.Sequential([\n",
        "    # layers.Input((1,)),\n",
        "    layers.Dense(units=1, activation='linear', name='Layer1' ,input_shape=[1]),\n",
        "])"
      ]
    },
    {
      "cell_type": "code",
      "source": [
        "model.summary()"
      ],
      "metadata": {
        "colab": {
          "base_uri": "https://localhost:8080/"
        },
        "id": "ERKztxixoFy3",
        "outputId": "867e37a6-f62e-49b6-9c6d-178e5f0763e4"
      },
      "execution_count": 30,
      "outputs": [
        {
          "output_type": "stream",
          "name": "stdout",
          "text": [
            "Model: \"sequential_8\"\n",
            "_________________________________________________________________\n",
            " Layer (type)                Output Shape              Param #   \n",
            "=================================================================\n",
            " Layer1 (Dense)              (None, 1)                 2         \n",
            "                                                                 \n",
            "=================================================================\n",
            "Total params: 2\n",
            "Trainable params: 2\n",
            "Non-trainable params: 0\n",
            "_________________________________________________________________\n"
          ]
        }
      ]
    },
    {
      "cell_type": "markdown",
      "source": [
        "You now can see our  model has just 2 parameters !"
      ],
      "metadata": {
        "id": "B1Ff5n0WoLAq"
      }
    },
    {
      "cell_type": "markdown",
      "metadata": {
        "id": "GZi_TzvUn5Tp"
      },
      "source": [
        "# Multiple Inputs\n",
        "\n",
        "\n",
        "![vyXSnlZ.png](https://github.com/Erfan-ram/Deep-ML-Doc/blob/main/images/mfOlDR6.png?raw=1)\n",
        "\n",
        "The formula for this neuron would be  `y =  w0x0 +w1x1 +w2x2 +b`\n",
        " ."
      ]
    },
    {
      "cell_type": "code",
      "execution_count": 31,
      "metadata": {
        "id": "i54Xz-WOn5Tp"
      },
      "outputs": [],
      "source": [
        "from tensorflow import keras\n",
        "from tensorflow.keras import layers\n",
        "\n",
        "# Create a network with 1 linear unit\n",
        "model = keras.Sequential([\n",
        "    # layers.Input((3,)),\n",
        "    layers.Dense(units=1, activation='linear', name='Layer1' ,input_shape=[3]),\n",
        "])"
      ]
    },
    {
      "cell_type": "markdown",
      "source": [
        "**guess how parameters it would have to has ?**"
      ],
      "metadata": {
        "id": "kXjixbgSojPj"
      }
    },
    {
      "cell_type": "code",
      "source": [
        "model.summary()"
      ],
      "metadata": {
        "colab": {
          "base_uri": "https://localhost:8080/"
        },
        "id": "daOyLXz4ogJE",
        "outputId": "80536849-64ab-412d-f369-9cff033dd7c7"
      },
      "execution_count": 32,
      "outputs": [
        {
          "output_type": "stream",
          "name": "stdout",
          "text": [
            "Model: \"sequential_9\"\n",
            "_________________________________________________________________\n",
            " Layer (type)                Output Shape              Param #   \n",
            "=================================================================\n",
            " Layer1 (Dense)              (None, 1)                 4         \n",
            "                                                                 \n",
            "=================================================================\n",
            "Total params: 4\n",
            "Trainable params: 4\n",
            "Non-trainable params: 0\n",
            "_________________________________________________________________\n"
          ]
        }
      ]
    },
    {
      "cell_type": "markdown",
      "metadata": {
        "id": "gcHfuVxMn5Tp"
      },
      "source": [
        "# BIG note for Input\n",
        "\n",
        "Why is input_shape a Python list?\n",
        "The data we'll use in this course will be tabular data, like in a Pandas dataframe. We'll have one input for each feature in the dataset. The features are arranged by column, so we'll always have input_shape=[num_columns]. The reason Keras uses a list here is to permit use of more complex datasets. Image data, for instance, might need three dimensions: [height, width, channels]."
      ]
    },
    {
      "cell_type": "code",
      "source": [
        "(trainx,trainy),(testx,testy)= keras.datasets.mnist.load_data()\n",
        "trainx.shape"
      ],
      "metadata": {
        "colab": {
          "base_uri": "https://localhost:8080/"
        },
        "id": "eFpbJNdepkuC",
        "outputId": "270b06a8-280c-4231-c8f1-5d3cc9620506"
      },
      "execution_count": 33,
      "outputs": [
        {
          "output_type": "execute_result",
          "data": {
            "text/plain": [
              "(60000, 28, 28)"
            ]
          },
          "metadata": {},
          "execution_count": 33
        }
      ]
    },
    {
      "cell_type": "markdown",
      "source": [
        "note to Dont ever set input shape for (60000 , 28 ,28 )"
      ],
      "metadata": {
        "id": "S8jXuDMlqXfo"
      }
    },
    {
      "cell_type": "code",
      "source": [
        "keras.Input(shape=(28,28)) # correct way"
      ],
      "metadata": {
        "colab": {
          "base_uri": "https://localhost:8080/"
        },
        "id": "Zsxm9E5cqNNY",
        "outputId": "d4f3fe21-b023-45ad-c661-4c16efb517df"
      },
      "execution_count": 34,
      "outputs": [
        {
          "output_type": "execute_result",
          "data": {
            "text/plain": [
              "<KerasTensor: shape=(None, 28, 28) dtype=float32 (created by layer 'input_6')>"
            ]
          },
          "metadata": {},
          "execution_count": 34
        }
      ]
    },
    {
      "cell_type": "markdown",
      "source": [
        "it is your turn :"
      ],
      "metadata": {
        "id": "s-jSiYgzq-G9"
      }
    },
    {
      "cell_type": "code",
      "source": [
        "# import pandas as pd\n",
        "\n",
        "# dataset= pd.read_csv('../')"
      ],
      "metadata": {
        "id": "VQYLX3q7rF2u"
      },
      "execution_count": 35,
      "outputs": []
    }
  ],
  "metadata": {
    "colab": {
      "provenance": []
    },
    "kernelspec": {
      "display_name": "Python 3",
      "language": "python",
      "name": "python3"
    },
    "language_info": {
      "codemirror_mode": {
        "name": "ipython",
        "version": 3
      },
      "file_extension": ".py",
      "mimetype": "text/x-python",
      "name": "python",
      "nbconvert_exporter": "python",
      "pygments_lexer": "ipython3",
      "version": "3.10.12"
    },
    "orig_nbformat": 4
  },
  "nbformat": 4,
  "nbformat_minor": 0
}