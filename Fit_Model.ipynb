{
  "nbformat": 4,
  "nbformat_minor": 0,
  "metadata": {
    "colab": {
      "provenance": [],
      "authorship_tag": "ABX9TyPpVjGbdoMn8Ne+Kg7WxIyC",
      "include_colab_link": true
    },
    "kernelspec": {
      "name": "python3",
      "display_name": "Python 3"
    },
    "language_info": {
      "name": "python"
    }
  },
  "cells": [
    {
      "cell_type": "markdown",
      "metadata": {
        "id": "view-in-github",
        "colab_type": "text"
      },
      "source": [
        "<a href=\"https://colab.research.google.com/github/Erfan-ram/Deep-ML-Doc/blob/main/Fit_Model.ipynb\" target=\"_parent\"><img src=\"https://colab.research.google.com/assets/colab-badge.svg\" alt=\"Open In Colab\"/></a>"
      ]
    },
    {
      "cell_type": "markdown",
      "source": [
        "we implement a layer with combine some units:\n",
        "\n",
        "![Layer](https://storage.googleapis.com/kaggle-media/learn/images/Y5iwFQZ.png)\n",
        "\n",
        "and you may asking what is **Activation function** and what it does ?\n",
        "\n",
        "A rectified linear unit `(ReLU)` is an activation function that introduces the property of non-linearity to a deep learning model and `solves the vanishing gradients issue`. \"It interprets the positive part of its argument. It is one of the most popular activation functions in deep learning.\n",
        "\n",
        "![relu](https://storage.googleapis.com/kaggle-media/learn/images/OLSUEYT.png)"
      ],
      "metadata": {
        "id": "zGphONv2HWuM"
      }
    },
    {
      "cell_type": "code",
      "source": [
        "from tensorflow import keras\n",
        "from tensorflow.keras import layers\n",
        "\n",
        "model = keras.Sequential([\n",
        "    # the hidden ReLU layers\n",
        "    layers.Input((2,)),\n",
        "    layers.Dense(units=4, activation='relu'),\n",
        "    layers.Dense(units=3, activation='relu'),\n",
        "    # the linear output layer\n",
        "    layers.Dense(units=1),\n",
        "])\n",
        "model.summary()"
      ],
      "metadata": {
        "colab": {
          "base_uri": "https://localhost:8080/"
        },
        "id": "JWrtST-zHqsF",
        "outputId": "ec2ece60-a8d1-4e16-fc59-a11e5fb6b2c9"
      },
      "execution_count": 3,
      "outputs": [
        {
          "output_type": "stream",
          "name": "stdout",
          "text": [
            "Model: \"sequential_1\"\n",
            "_________________________________________________________________\n",
            " Layer (type)                Output Shape              Param #   \n",
            "=================================================================\n",
            " dense_3 (Dense)             (None, 4)                 12        \n",
            "                                                                 \n",
            " dense_4 (Dense)             (None, 3)                 15        \n",
            "                                                                 \n",
            " dense_5 (Dense)             (None, 1)                 4         \n",
            "                                                                 \n",
            "=================================================================\n",
            "Total params: 31\n",
            "Trainable params: 31\n",
            "Non-trainable params: 0\n",
            "_________________________________________________________________\n"
          ]
        }
      ]
    },
    {
      "cell_type": "code",
      "source": [
        "from tensorflow import keras\n",
        "from tensorflow.keras import layers\n",
        "\n",
        "model2 = keras.Sequential([\n",
        "    layers.Input(shape=(12,)),\n",
        "    layers.Dense(units=512 ,activation='relu' ,name='L1' ),\n",
        "    layers.Dense(units=512 ,activation='relu' ,name='L2' ),\n",
        "    layers.Dense(units=512 ,activation='relu' ,name='L3' ),\n",
        "    layers.Dense(units=1 ,activation='linear' ,name='out' ),\n",
        "\n",
        "])\n",
        "\n",
        "model2.summary()"
      ],
      "metadata": {
        "colab": {
          "base_uri": "https://localhost:8080/"
        },
        "id": "BNpXyomUK-ai",
        "outputId": "5a4d4890-79da-42e5-9acb-7c24d82211c8"
      },
      "execution_count": 7,
      "outputs": [
        {
          "output_type": "stream",
          "name": "stdout",
          "text": [
            "Model: \"sequential_2\"\n",
            "_________________________________________________________________\n",
            " Layer (type)                Output Shape              Param #   \n",
            "=================================================================\n",
            " L1 (Dense)                  (None, 512)               6656      \n",
            "                                                                 \n",
            " L2 (Dense)                  (None, 512)               262656    \n",
            "                                                                 \n",
            " L3 (Dense)                  (None, 512)               262656    \n",
            "                                                                 \n",
            " out (Dense)                 (None, 1)                 513       \n",
            "                                                                 \n",
            "=================================================================\n",
            "Total params: 532,481\n",
            "Trainable params: 532,481\n",
            "Non-trainable params: 0\n",
            "_________________________________________________________________\n"
          ]
        }
      ]
    }
  ]
}